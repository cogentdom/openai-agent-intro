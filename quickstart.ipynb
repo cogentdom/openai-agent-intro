{
 "cells": [
  {
   "cell_type": "markdown",
   "id": "516115f4",
   "metadata": {},
   "source": [
    "# Quickstart Guide to Openai Agents"
   ]
  },
  {
   "cell_type": "markdown",
   "id": "b7fed92f",
   "metadata": {},
   "source": [
    "### Set up environment "
   ]
  },
  {
   "cell_type": "code",
   "execution_count": 1,
   "id": "36b7d083",
   "metadata": {},
   "outputs": [
    {
     "data": {
      "text/plain": [
       "True"
      ]
     },
     "execution_count": 1,
     "metadata": {},
     "output_type": "execute_result"
    }
   ],
   "source": [
    "from dotenv import load_dotenv\n",
    "load_dotenv()"
   ]
  },
  {
   "cell_type": "markdown",
   "id": "9c342f5f",
   "metadata": {},
   "source": [
    "### Create your first agent"
   ]
  },
  {
   "cell_type": "code",
   "execution_count": 2,
   "id": "b97520ab",
   "metadata": {},
   "outputs": [],
   "source": [
    "from agents import Agent\n",
    "\n",
    "agent = Agent(\n",
    "    name=\"Math Tutor\",\n",
    "    instructions=\"You provide help with math problems. Explain your reasoning at each step and include examples\",\n",
    ")"
   ]
  },
  {
   "cell_type": "markdown",
   "id": "143e3068",
   "metadata": {},
   "source": [
    "### Add a few more agents"
   ]
  },
  {
   "cell_type": "code",
   "execution_count": 3,
   "id": "a64fa7e0",
   "metadata": {},
   "outputs": [],
   "source": [
    "# from agents import Agent\n",
    "\n",
    "history_tutor_agent = Agent(\n",
    "    name=\"History Tutor\",\n",
    "    handoff_description=\"Specialist agent for historical questions\",\n",
    "    instructions=\"You provide assistance with historical queries. Explain important events and context clearly.\",\n",
    ")\n",
    "\n",
    "math_tutor_agent = Agent(\n",
    "    name=\"Math Tutor\",\n",
    "    handoff_description=\"Specialist agent for math questions\",\n",
    "    instructions=\"You provide help with math problems. Explain your reasoning at each step and include examples\",\n",
    ")"
   ]
  },
  {
   "cell_type": "markdown",
   "id": "8fe3275a",
   "metadata": {},
   "source": [
    "### Define your handoffs"
   ]
  },
  {
   "cell_type": "code",
   "execution_count": 4,
   "id": "46d1a8a9",
   "metadata": {},
   "outputs": [],
   "source": [
    "triage_agent = Agent(\n",
    "    name=\"Triage Agent\",\n",
    "    instructions=\"You determine which agent to use based on the user's homework question\",\n",
    "    handoffs=[history_tutor_agent, math_tutor_agent]\n",
    ")"
   ]
  },
  {
   "cell_type": "markdown",
   "id": "a6b5f5de",
   "metadata": {},
   "source": [
    "### Run the agent orchestration"
   ]
  },
  {
   "cell_type": "code",
   "execution_count": 5,
   "id": "5d88f77d",
   "metadata": {},
   "outputs": [
    {
     "name": "stdout",
     "output_type": "stream",
     "text": [
      "The capital of France is Paris.\n"
     ]
    }
   ],
   "source": [
    "from agents import Runner\n",
    "\n",
    "\n",
    "result = await Runner.run(triage_agent, \"What is the capital of France?\")\n",
    "print(result.final_output)"
   ]
  },
  {
   "cell_type": "markdown",
   "id": "6b527b45",
   "metadata": {},
   "source": [
    "### Add a guardrail"
   ]
  },
  {
   "cell_type": "code",
   "execution_count": 6,
   "id": "827aa311",
   "metadata": {},
   "outputs": [],
   "source": [
    "from agents import GuardrailFunctionOutput, Agent, Runner\n",
    "from pydantic import BaseModel\n",
    "\n",
    "\n",
    "class HomeworkOutput(BaseModel):\n",
    "    is_homework: bool\n",
    "    reasoning: str\n",
    "\n",
    "guardrail_agent = Agent(\n",
    "    name=\"Guardrail check\",\n",
    "    instructions=\"Check if the user is asking about homework.\",\n",
    "    output_type=HomeworkOutput,\n",
    ")\n",
    "\n",
    "async def homework_guardrail(ctx, agent, input_data):\n",
    "    result = await Runner.run(guardrail_agent, input_data, context=ctx.context)\n",
    "    final_output = result.final_output_as(HomeworkOutput)\n",
    "    return GuardrailFunctionOutput(\n",
    "        output_info=final_output,\n",
    "        tripwire_triggered=not final_output.is_homework,\n",
    "    )"
   ]
  }
 ],
 "metadata": {
  "kernelspec": {
   "display_name": ".venv",
   "language": "python",
   "name": "python3"
  },
  "language_info": {
   "codemirror_mode": {
    "name": "ipython",
    "version": 3
   },
   "file_extension": ".py",
   "mimetype": "text/x-python",
   "name": "python",
   "nbconvert_exporter": "python",
   "pygments_lexer": "ipython3",
   "version": "3.12.7"
  }
 },
 "nbformat": 4,
 "nbformat_minor": 5
}
